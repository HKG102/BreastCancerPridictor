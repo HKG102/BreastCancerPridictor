{
 "cells": [
  {
   "cell_type": "code",
   "execution_count": 1,
   "metadata": {},
   "outputs": [],
   "source": [
    "import numpy as np\n",
    "from sklearn.datasets import load_breast_cancer\n",
    "import pandas as pd\n",
    "import matplotlib.pyplot as plt"
   ]
  },
  {
   "cell_type": "code",
   "execution_count": 2,
   "metadata": {},
   "outputs": [],
   "source": [
    "data = load_breast_cancer()"
   ]
  },
  {
   "cell_type": "code",
   "execution_count": 3,
   "metadata": {},
   "outputs": [],
   "source": [
    "data_Y = data.target\n",
    "data_X = data.data"
   ]
  },
  {
   "cell_type": "code",
   "execution_count": 4,
   "metadata": {},
   "outputs": [
    {
     "data": {
      "text/plain": [
       "(569, 30)"
      ]
     },
     "execution_count": 4,
     "metadata": {},
     "output_type": "execute_result"
    }
   ],
   "source": [
    "data_X.shape"
   ]
  },
  {
   "cell_type": "code",
   "execution_count": 5,
   "metadata": {},
   "outputs": [
    {
     "data": {
      "text/plain": [
       "(569,)"
      ]
     },
     "execution_count": 5,
     "metadata": {},
     "output_type": "execute_result"
    }
   ],
   "source": [
    "data_Y.shape"
   ]
  },
  {
   "cell_type": "code",
   "execution_count": 6,
   "metadata": {},
   "outputs": [],
   "source": [
    "data_Y = data_Y.reshape(data_X.shape[0], 1)"
   ]
  },
  {
   "cell_type": "code",
   "execution_count": 7,
   "metadata": {},
   "outputs": [
    {
     "data": {
      "text/plain": [
       "(569, 1)"
      ]
     },
     "execution_count": 7,
     "metadata": {},
     "output_type": "execute_result"
    }
   ],
   "source": [
    "data_Y.shape"
   ]
  },
  {
   "cell_type": "code",
   "execution_count": 8,
   "metadata": {},
   "outputs": [],
   "source": [
    "def sigmoid(x):\n",
    "    return 1/(1+np.exp(-x))"
   ]
  },
  {
   "cell_type": "code",
   "execution_count": 12,
   "metadata": {},
   "outputs": [
    {
     "name": "stderr",
     "output_type": "stream",
     "text": [
      "c:\\users\\hashroot\\appdata\\local\\programs\\python\\python36\\lib\\site-packages\\ipykernel_launcher.py:20: RuntimeWarning: divide by zero encountered in log\n"
     ]
    },
    {
     "name": "stdout",
     "output_type": "stream",
     "text": [
      "0.23822478914115677\n"
     ]
    },
    {
     "data": {
      "image/png": "[encoded data removed]",
      "text/plain": [
       "<Figure size 432x288 with 1 Axes>"
      ]
     },
     "metadata": {},
     "output_type": "display_data"
    }
   ],
   "source": [
    "X = data_X\n",
    "Y = data_Y\n",
    "numSamples = data_X.shape[0]\n",
    "numFeatures = data_X.shape[1]\n",
    "numLabels = data_Y.shape[1]\n",
    "w = np.random.normal(loc=0.0, scale=0.01, size=(numFeatures, numLabels))\n",
    "b = np.random.normal(loc=0.0, scale=0.01, size=(1, numLabels))\n",
    "\n",
    "# Hyper Parameters\n",
    "epochs = 15000\n",
    "learning_rate = 1e-6\n",
    "losses = []\n",
    "for i in range(epochs):\n",
    "    \n",
    "    # Model\n",
    "    z = np.add(np.matmul(X, w), b)\n",
    "    a = sigmoid(z)\n",
    "    \n",
    "    # Loss\n",
    "    l = np.sum(- (Y*np.log(a) + (1-Y)*np.log(1-a)), axis=0, keepdims=True).T[0][0]/numSamples\n",
    "    losses.append(l)\n",
    "    \n",
    "    dz = a - Y\n",
    "    dw  = X*dz\n",
    "    \n",
    "    # Gradients\n",
    "    dw = np.sum(dw, axis=0, keepdims=True).T/numSamples\n",
    "    db = np.sum(dz, axis=0, keepdims=True).T/numSamples\n",
    "    \n",
    "    #Update Weights\n",
    "    w = w - learning_rate*dw\n",
    "    b = b - learning_rate*db\n",
    "\n",
    "plt.plot(losses[20:10000])\n",
    "plt.xlabel('Iterations')\n",
    "plt.ylabel('Loss')\n",
    "plt.title('Loss Function')\n",
    "print(losses[-1])"
   ]
  },
  {
   "cell_type": "code",
   "execution_count": 13,
   "metadata": {},
   "outputs": [
    {
     "name": "stdout",
     "output_type": "stream",
     "text": [
      "Accuracy :  91.91564147627417 %\n"
     ]
    }
   ],
   "source": [
    "Y_pred = []\n",
    "A = []\n",
    "Z = []\n",
    "count = 0\n",
    "for i in range(numSamples):\n",
    "    z = np.add(np.matmul(X[i].reshape((1,numFeatures)), w), b)\n",
    "    Z.append(z)\n",
    "    a = sigmoid(z)\n",
    "    A.append(a[0][0])\n",
    "    if a[0][0] >= 0.5 and Y[i] == 1:\n",
    "        count += 1\n",
    "        Y_pred.append(1.0)\n",
    "    if a[0][0] < 0.5 and Y[i] == 0:\n",
    "        count += 1\n",
    "        Y_pred.append(0.0)\n",
    "print('Accuracy : ', count/numSamples*100, '%')\n",
    "y = np.asarray(Y, dtype=np.int32)"
   ]
  },
  {
   "cell_type": "code",
   "execution_count": null,
   "metadata": {},
   "outputs": [],
   "source": []
  }
 ],
 "metadata": {
  "kernelspec": {
   "display_name": "Python 3",
   "language": "python",
   "name": "python3"
  },
  "language_info": {
   "codemirror_mode": {
    "name": "ipython",
    "version": 3
   },
   "file_extension": ".py",
   "mimetype": "text/x-python",
   "name": "python",
   "nbconvert_exporter": "python",
   "pygments_lexer": "ipython3",
   "version": "3.6.6"
  }
 },
 "nbformat": 4,
 "nbformat_minor": 2
}
